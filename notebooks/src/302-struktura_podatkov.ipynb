{
  "cells": [
    {
      "cell_type": "markdown",
      "metadata": {
        "tags": [
          "sl"
        ]
      },
      "source": [
        "## Iskanje strukture v podatkih\n",
        "\n",
        "Podatkovno rudarjenje, naloga, `<VPIŠI DATUM ODDAJE>`  \n",
        "**`<VPIŠI Ime in priimek>`**"
      ]
    },
    {
      "cell_type": "markdown",
      "metadata": {
        "tags": [
          "en"
        ]
      },
      "source": [
        "## Search for structure in data\n",
        "\n",
        "Data mining, assignment, `<INSERT DATE>`  \n",
        "**`<INSERT Name and surname>`**"
      ]
    },
    {
      "cell_type": "markdown",
      "metadata": {
        "tags": [
          "sl"
        ]
      },
      "source": [
        "Z modeliranjem skušamo poiskati strukturo v podatkih. Z metodami nenadzorovanga modeliranja skušamo poiskati skupine podobnih podatkov oz. skupine primerov.\n",
        "\n",
        "V nalogi boste uporabili modeliranje verjetnostnih porazdelitev za iskanje osamelcev ter metode za iskanje skupin podobnih primerov (gručenje)."
      ]
    },
    {
      "cell_type": "markdown",
      "metadata": {
        "tags": [
          "en"
        ]
      },
      "source": [
        "By modeling, we try to find structure in the data. Using unsupervised modeling methods, we try to find groups of similar data or cases.\n",
        "\n",
        "In this assignment you will use modeling of probability distributions to search for outliers and methods for finding groups of similar cases (clustering)."
      ]
    },
    {
      "cell_type": "markdown",
      "metadata": {
        "tags": [
          "sl"
        ]
      },
      "source": [
        "### Podatki\n",
        "\n",
        "Opis podatkovne zbirke MovieLens ostaja enak prvi nalogi."
      ]
    },
    {
      "cell_type": "markdown",
      "metadata": {
        "tags": [
          "en"
        ]
      },
      "source": [
        "### Data\n",
        "\n",
        "The description of the MovieLens database remains the same as for the first assignment."
      ]
    },
    {
      "cell_type": "markdown",
      "metadata": {
        "tags": [
          "sl"
        ]
      },
      "source": [
        "### Vprašanja\n",
        "\n",
        "Z uporabo principov, ki ste jih spoznali na vajah in predavanjih, odgovorite na\n",
        "spodnja vprašanja. Pri vsakem vprašanju dobro premislite, na kakšen način boste\n",
        "najbolje podali, prikazali oz. utemeljili odgovor. Bistven del so odgovori na\n",
        "vprašanja in ne toliko implementacija vaše rešitve."
      ]
    },
    {
      "cell_type": "markdown",
      "metadata": {
        "tags": [
          "en"
        ]
      },
      "source": [
        "### Questions\n",
        "\n",
        "By using the principles you have learned on exercises and lectures, answer the \n",
        "following questions. For each question, think carefully about the best way to give, show or justify the answer. The essential part is the answers to the\n",
        "questions and not so much the implementation of your solution."
      ]
    },
    {
      "cell_type": "markdown",
      "metadata": {
        "tags": [
          "sl"
        ]
      },
      "source": [
        "#### 1. Iskanje osamelcev\n",
        "O ocenah katerih filmov so si uporabniki najmanj enotni? Povedano drugače, za katere filme so pripadajoče ocene najbolj razpršene?\n",
        "\n",
        "Formuliraj problem kot modeliranje verjetnostne porazdelitve. Premisli o naslednjih vprašanjih, naredi ustrezne poizkuse in odgovori."
      ]
    },
    {
      "cell_type": "markdown",
      "metadata": {
        "tags": [
          "en"
        ]
      },
      "source": [
        "#### 1. Finding outliers\n",
        "About the ratings of which movies are the users the least unified? In other words, for which films are the corresponding scores the most dispersed?\n",
        "\n",
        "Formulate the problem as modeling the probability distribution. Think about the following questions, make the appropriate experiments and answers."
      ]
    },
    {
      "cell_type": "markdown",
      "metadata": {
        "tags": [
          "sl"
        ]
      },
      "source": [
        "##### 1.1. vprašanje (5%):\n",
        "\n",
        "Katera je ustrezna statistična mera, ki odgovarja na vprašanje?        "
      ]
    },
    {
      "cell_type": "markdown",
      "metadata": {
        "tags": [
          "en"
        ]
      },
      "source": [
        "##### 1.1. question (5%):\n",
        "\n",
        "What is the appropriate statistical measure that answers the question?"
      ]
    },
    {
      "cell_type": "markdown",
      "metadata": {
        "tags": [
          "sl"
        ]
      },
      "source": [
        "Odgovor: **odgovor lahko zapišete v več celic**"
      ]
    },
    {
      "cell_type": "markdown",
      "metadata": {
        "tags": [
          "en"
        ]
      },
      "source": [
        "Answer: **You can write the answer in multiple cells**"
      ]
    },
    {
      "cell_type": "markdown",
      "metadata": {
        "tags": [
          "sl"
        ]
      },
      "source": [
        "##### 1.2. vprašanje (10%):\n",
        "Nariši njeno porazdelitev, npr., s pomočjo histograma."
      ]
    },
    {
      "cell_type": "markdown",
      "metadata": {
        "tags": [
          "en"
        ]
      },
      "source": [
        "##### 1.2. question (10%):\n",
        "Draw its distribution, for example, using a histogram."
      ]
    },
    {
      "cell_type": "code",
      "execution_count": null,
      "metadata": {},
      "outputs": [],
      "source": []
    },
    {
      "cell_type": "markdown",
      "metadata": {
        "tags": [
          "sl"
        ]
      },
      "source": [
        "Odgovor: **odgovor lahko zapišete v več celic**"
      ]
    },
    {
      "cell_type": "markdown",
      "metadata": {
        "tags": [
          "en"
        ]
      },
      "source": [
        "Answer: **You can write the answer in multiple cells**"
      ]
    },
    {
      "cell_type": "markdown",
      "metadata": {
        "tags": [
          "sl"
        ]
      },
      "source": [
        "##### 1.3. vprašanje (15%):\n",
        "\n",
        "Izmed porazdelitev, ki smo jih spoznali na vajah, izberi tisto, ki se podatkom najbolj prilega. Oceni njene parametre.  "
      ]
    },
    {
      "cell_type": "markdown",
      "metadata": {
        "tags": [
          "en"
        ]
      },
      "source": [
        "##### 1.3. question (15%):\n",
        "\n",
        "From the distributions we have learned at the exercises, choose the one that best fits the data. Assess its parameters. "
      ]
    },
    {
      "cell_type": "code",
      "execution_count": null,
      "metadata": {},
      "outputs": [],
      "source": []
    },
    {
      "cell_type": "markdown",
      "metadata": {
        "tags": [
          "sl"
        ]
      },
      "source": [
        "Odgovor: **odgovor lahko zapišete v več celic**"
      ]
    },
    {
      "cell_type": "markdown",
      "metadata": {
        "tags": [
          "en"
        ]
      },
      "source": [
        "Answer: **You can write the answer in multiple cells**"
      ]
    },
    {
      "cell_type": "markdown",
      "metadata": {
        "tags": [
          "sl"
        ]
      },
      "source": [
        "##### 1.4. vprašanje (20%):\n",
        "\n",
        "Izpiši filme s statistično značilno visoko vrednostjo (p < 0,05)."
      ]
    },
    {
      "cell_type": "markdown",
      "metadata": {
        "tags": [
          "en"
        ]
      },
      "source": [
        "##### 1.4. question (20%):\n",
        "\n",
        "Print the movies with a statistically significant high value (p < 0.05)."
      ]
    },
    {
      "cell_type": "code",
      "execution_count": null,
      "metadata": {},
      "outputs": [],
      "source": []
    },
    {
      "cell_type": "markdown",
      "metadata": {
        "tags": [
          "sl"
        ]
      },
      "source": [
        "Odgovor: **odgovor lahko zapišete v več celic**"
      ]
    },
    {
      "cell_type": "markdown",
      "metadata": {
        "tags": [
          "en"
        ]
      },
      "source": [
        "Answer: **You can write the answer in multiple cells**"
      ]
    },
    {
      "cell_type": "markdown",
      "metadata": {
        "tags": [
          "sl"
        ]
      },
      "source": [
        "#### 2. Gručenje filmov\n",
        "\n",
        "Priporočilni sistemi pogosto odkrivajo skupine predmetov (v našem primeru filmov), za katere velja visoka medsebojna podobnost."
      ]
    },
    {
      "cell_type": "markdown",
      "metadata": {
        "tags": [
          "en"
        ]
      },
      "source": [
        "#### 2. Clustering films\n",
        "\n",
        "Recommendation systems often detect groups of objects (in our example movies), which are of high similarity."
      ]
    },
    {
      "cell_type": "markdown",
      "metadata": {
        "tags": [
          "sl"
        ]
      },
      "source": [
        "##### 2.1. vprašanje (10%):\n",
        "\n",
        "Tega dela naloge ne bomo izvajali nad vsemi filmi. Za začetek pripravite podatke za 100 najbolj gledanih filmov. Na film lahko gledamo kot vektor, kjer je število komponent enako številu uporabnikov. Vektorji vsebujejo tudi *neznane vrednosti*.\n",
        "\n",
        "Primer vektorjev za deset filmov prikazuje spodnja tabela."
      ]
    },
    {
      "cell_type": "markdown",
      "metadata": {
        "tags": [
          "en"
        ]
      },
      "source": [
        "##### 2.1. question (10%):\n",
        "\n",
        "We will not perform this part of the assignment on all movies. To begin, prepare the data for the 100 most watched films. We can think of each movie as a vector, where the number of components equals the number of users. The vectors also contain *unknown values*.\n",
        "\n",
        "An example of the vectors for ten films is shown in the table below."
      ]
    },
    {
      "cell_type": "markdown",
      "metadata": {},
      "source": [
        "| x          |Movie                                      | $u_0$ |$u_1$ | $u_2$ | $\\cdots$ |\n",
        "|------------|-------------------------------------------|:-----:|:----:|:------|:--------:|\n",
        "|$\\vec{x_0}$ | Fight Club (1999)                         | ?     | ?    | ?     | $\\cdots$ |\n",
        "|$\\vec{x_1}$ | Twelve Monkeys (a.k.a. 12 Monkeys) (1995) | ?     | ?    | 2.5   | $\\cdots$ |\n",
        "|$\\vec{x_2}$ | Independence Day (a.k.a. ID4) (1996)      | ?     | ?    | ?     | $\\cdots$ |\n",
        "|$\\vec{x_3}$ | Dances with  Wolves (1990)                | 4.0   | ?    | ?     | $\\cdots$ |\n",
        "|$\\vec{x_4}$ | Fargo (1996)                              | ?     | ?    | ?     | $\\cdots$ |\n",
        "|$\\vec{x_5}$ | Speed (1994)                              | ?     | ?    | ?     | $\\cdots$ |\n",
        "|$\\vec{x_6}$ | Apollo 13 (1995)                          | ?     | 2.0  | ?     | $\\cdots$ |\n",
        "|$\\vec{x_7}$ | Seven (a.k.a. Se7en) (1995)               | ?     | ?    | ?     | $\\cdots$ |\n",
        "|$\\vec{x_8}$ | Sixth Sense, The (1999)                   | 3.0   | ?    | 4.0   | $\\cdots$ |\n",
        "|$\\vec{x_9}$ | Aladdin (1992)                            | ?     | ?    | ?     | $\\cdots$ |\n",
        "|$\\cdots$    | $\\cdots$                                  | $\\cdots$ | $\\cdots$  | $\\cdots$ | $\\cdots$ |"
      ]
    },
    {
      "cell_type": "code",
      "execution_count": null,
      "metadata": {},
      "outputs": [],
      "source": []
    },
    {
      "cell_type": "markdown",
      "metadata": {
        "tags": [
          "sl"
        ]
      },
      "source": [
        "Odgovor: **odgovor lahko zapišete v več celic**"
      ]
    },
    {
      "cell_type": "markdown",
      "metadata": {
        "tags": [
          "en"
        ]
      },
      "source": [
        "Answer: **You can write the answer in multiple cells**"
      ]
    },
    {
      "cell_type": "markdown",
      "metadata": {
        "tags": [
          "sl"
        ]
      },
      "source": [
        "##### 2.2. vprašanje (10%):\n",
        "\n",
        "Izberite ustrezen algoritem za gručenje in primerno metodo ocenjevanja uspešnosti gručenja. Utemeljite vašo izbiro."
      ]
    },
    {
      "cell_type": "markdown",
      "metadata": {
        "tags": [
          "en"
        ]
      },
      "source": [
        "##### 2.2. question (10%):\n",
        "\n",
        "Choose an appropriate clustering algorithm and a suitable method for evaluating the clustering performance. Justify your choice."
      ]
    },
    {
      "cell_type": "markdown",
      "metadata": {
        "tags": [
          "sl"
        ]
      },
      "source": [
        "Odgovor: **odgovor lahko zapišete v več celic**"
      ]
    },
    {
      "cell_type": "markdown",
      "metadata": {
        "tags": [
          "en"
        ]
      },
      "source": [
        "Answer: **You can write the answer in multiple cells**"
      ]
    },
    {
      "cell_type": "markdown",
      "metadata": {
        "tags": [
          "sl"
        ]
      },
      "source": [
        "##### 2.3. vprašanje (20%):\n",
        "\n",
        "Za izbran algoritem preizkusite več vrednosti parametrov, oziroma njihovih kombinacij, ter ocenite uspešnost z izbrano metodo."
      ]
    },
    {
      "cell_type": "markdown",
      "metadata": {
        "tags": [
          "en"
        ]
      },
      "source": [
        "##### 2.3. question (20%):\n",
        "\n",
        "For the selected algorithm, test several parameter values or their combinations, and evaluate the performance using the chosen method."
      ]
    },
    {
      "cell_type": "code",
      "execution_count": null,
      "metadata": {},
      "outputs": [],
      "source": []
    },
    {
      "cell_type": "markdown",
      "metadata": {
        "tags": [
          "sl"
        ]
      },
      "source": [
        "Odgovor: **odgovor lahko zapišete v več celic**"
      ]
    },
    {
      "cell_type": "markdown",
      "metadata": {
        "tags": [
          "en"
        ]
      },
      "source": [
        "Answer: **You can write the answer in multiple cells**"
      ]
    },
    {
      "cell_type": "markdown",
      "metadata": {
        "tags": [
          "sl"
        ]
      },
      "source": [
        "##### 2.4. vprašanje (10%):\n",
        "\n",
        "Prikažite rezultate z uporabo ustrezne vizualizacije.\n",
        "\n",
        "Koliko skupin filmov je med izbranimi? Izpišite posamezne skupine in filme, ki jim pripadajo.\n",
        "\n",
        "Komentirajte smiselnost dobljenih rezultatov."
      ]
    },
    {
      "cell_type": "markdown",
      "metadata": {
        "tags": [
          "en"
        ]
      },
      "source": [
        "##### 2.4. question (10%):\n",
        "\n",
        "Present the results using an appropriate visualization.\n",
        "\n",
        "How many groups of movies are there among the selected ones? List the individual groups and the movies that belong to them.\n",
        "\n",
        "Comment on the meaningfulness of the obtained results."
      ]
    },
    {
      "cell_type": "code",
      "execution_count": null,
      "metadata": {},
      "outputs": [],
      "source": []
    },
    {
      "cell_type": "markdown",
      "metadata": {
        "tags": [
          "sl"
        ]
      },
      "source": [
        "Odgovor: **odgovor lahko zapišete v več celic**"
      ]
    },
    {
      "cell_type": "markdown",
      "metadata": {
        "tags": [
          "en"
        ]
      },
      "source": [
        "Answer: **You can write the answer in multiple cells**"
      ]
    }
  ],
  "metadata": {
    "kernelspec": {
      "display_name": "PRvaje",
      "language": "python",
      "name": "python3"
    },
    "language_info": {
      "codemirror_mode": {
        "name": "ipython",
        "version": 3
      },
      "file_extension": ".py",
      "mimetype": "text/x-python",
      "name": "python",
      "nbconvert_exporter": "python",
      "pygments_lexer": "ipython3",
      "version": "3.11.8"
    },
    "latex_envs": {
      "LaTeX_envs_menu_present": true,
      "autocomplete": true,
      "bibliofile": "biblio.bib",
      "cite_by": "apalike",
      "current_citInitial": 1,
      "eqLabelWithNumbers": true,
      "eqNumInitial": 1,
      "hotkeys": {
        "equation": "Ctrl-E",
        "itemize": "Ctrl-I"
      },
      "labels_anchors": false,
      "latex_user_defs": false,
      "report_style_numbering": false,
      "user_envs_cfg": false
    },
    "nbTranslate": {
      "displayLangs": [
        "sl"
      ],
      "hotkey": "alt-t",
      "langInMainMenu": true,
      "sourceLang": "sl",
      "targetLang": "en",
      "useGoogleTranslate": true
    }
  },
  "nbformat": 4,
  "nbformat_minor": 2
}
