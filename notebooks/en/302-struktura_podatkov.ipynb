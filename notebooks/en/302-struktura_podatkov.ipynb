{
 "cells": [
  {
   "cell_type": "markdown",
   "metadata": {
    "tags": [
     "en"
    ]
   },
   "source": [
    "## Search for structure in data\n",
    "\n",
    "Data mining, assignment, `<INSERT DATE>`  \n",
    "**`<INSERT Name and surname>`**"
   ]
  },
  {
   "cell_type": "markdown",
   "metadata": {
    "tags": [
     "en"
    ]
   },
   "source": [
    "By modeling, we try to find structure in the data. Using unsupervised modeling methods, we try to find groups of similar data or cases.\n",
    "\n",
    "In this assignment you will use modeling of probability distributions to search for outliers and methods for finding groups of similar cases (clustering)."
   ]
  },
  {
   "cell_type": "markdown",
   "metadata": {
    "tags": [
     "en"
    ]
   },
   "source": [
    "### Data\n",
    "\n",
    "The description of the MovieLens database remains the same as for the first assignment."
   ]
  },
  {
   "cell_type": "markdown",
   "metadata": {
    "tags": [
     "en"
    ]
   },
   "source": [
    "### Questions\n",
    "\n",
    "By using the principles you have learned on exercises and lectures, answer the \n",
    "following questions. For each question, think carefully about the best way to give, show or justify the answer. The essential part is the answers to the\n",
    "questions and not so much the implementation of your solution."
   ]
  },
  {
   "cell_type": "markdown",
   "metadata": {
    "tags": [
     "en"
    ]
   },
   "source": [
    "#### 1. Finding outliers\n",
    "About the ratings of which movies are the users the least unified? In other words, for which films are the corresponding scores the most dispersed?\n",
    "\n",
    "Formulate the problem as modeling the probability distribution. Think about the following questions, make the appropriate experiments and answers."
   ]
  },
  {
   "cell_type": "markdown",
   "metadata": {
    "tags": [
     "en"
    ]
   },
   "source": [
    "##### 1.1. question (5%):\n",
    "\n",
    "What is the appropriate statistical measure that answers the question?"
   ]
  },
  {
   "cell_type": "markdown",
   "metadata": {
    "tags": [
     "en"
    ]
   },
   "source": [
    "Answer: **You can write the answer in multiple cells**"
   ]
  },
  {
   "cell_type": "markdown",
   "metadata": {
    "tags": [
     "en"
    ]
   },
   "source": [
    "##### 1.2. question (10%):\n",
    "Draw its distribution, for example, using a histogram."
   ]
  },
  {
   "cell_type": "code",
   "execution_count": null,
   "metadata": {},
   "outputs": [],
   "source": []
  },
  {
   "cell_type": "markdown",
   "metadata": {
    "tags": [
     "en"
    ]
   },
   "source": [
    "Answer: **You can write the answer in multiple cells**"
   ]
  },
  {
   "cell_type": "markdown",
   "metadata": {
    "tags": [
     "en"
    ]
   },
   "source": [
    "##### 1.3. question (15%):\n",
    "\n",
    "From the distributions we have learned at the exercises, choose the one that best fits the data. Assess its parameters. "
   ]
  },
  {
   "cell_type": "code",
   "execution_count": null,
   "metadata": {},
   "outputs": [],
   "source": []
  },
  {
   "cell_type": "markdown",
   "metadata": {
    "tags": [
     "en"
    ]
   },
   "source": [
    "Answer: **You can write the answer in multiple cells**"
   ]
  },
  {
   "cell_type": "markdown",
   "metadata": {
    "tags": [
     "en"
    ]
   },
   "source": [
    "##### 1.4. question (20%):\n",
    "\n",
    "Print the movies with a statistically significant high value (p < 0.05)."
   ]
  },
  {
   "cell_type": "code",
   "execution_count": null,
   "metadata": {},
   "outputs": [],
   "source": []
  },
  {
   "cell_type": "markdown",
   "metadata": {
    "tags": [
     "en"
    ]
   },
   "source": [
    "Answer: **You can write the answer in multiple cells**"
   ]
  },
  {
   "cell_type": "markdown",
   "metadata": {
    "tags": [
     "en"
    ]
   },
   "source": [
    "#### 2. Clustering films\n",
    "\n",
    "Recommendation systems often detect groups of objects (in our example movies), which are of high similarity."
   ]
  },
  {
   "cell_type": "markdown",
   "metadata": {
    "tags": [
     "en"
    ]
   },
   "source": [
    "##### 2.1. question (10%):\n",
    "\n",
    "We will not perform this part of the assignment on all movies. To begin, prepare the data for the 100 most watched films. We can think of each movie as a vector, where the number of components equals the number of users. The vectors also contain *unknown values*.\n",
    "\n",
    "An example of the vectors for ten films is shown in the table below."
   ]
  },
  {
   "cell_type": "markdown",
   "metadata": {},
   "source": [
    "| x          |Movie                                      | $u_0$ |$u_1$ | $u_2$ | $\\cdots$ |\n",
    "|------------|-------------------------------------------|:-----:|:----:|:------|:--------:|\n",
    "|$\\vec{x_0}$ | Fight Club (1999)                         | ?     | ?    | ?     | $\\cdots$ |\n",
    "|$\\vec{x_1}$ | Twelve Monkeys (a.k.a. 12 Monkeys) (1995) | ?     | ?    | 2.5   | $\\cdots$ |\n",
    "|$\\vec{x_2}$ | Independence Day (a.k.a. ID4) (1996)      | ?     | ?    | ?     | $\\cdots$ |\n",
    "|$\\vec{x_3}$ | Dances with  Wolves (1990)                | 4.0   | ?    | ?     | $\\cdots$ |\n",
    "|$\\vec{x_4}$ | Fargo (1996)                              | ?     | ?    | ?     | $\\cdots$ |\n",
    "|$\\vec{x_5}$ | Speed (1994)                              | ?     | ?    | ?     | $\\cdots$ |\n",
    "|$\\vec{x_6}$ | Apollo 13 (1995)                          | ?     | 2.0  | ?     | $\\cdots$ |\n",
    "|$\\vec{x_7}$ | Seven (a.k.a. Se7en) (1995)               | ?     | ?    | ?     | $\\cdots$ |\n",
    "|$\\vec{x_8}$ | Sixth Sense, The (1999)                   | 3.0   | ?    | 4.0   | $\\cdots$ |\n",
    "|$\\vec{x_9}$ | Aladdin (1992)                            | ?     | ?    | ?     | $\\cdots$ |\n",
    "|$\\cdots$    | $\\cdots$                                  | $\\cdots$ | $\\cdots$  | $\\cdots$ | $\\cdots$ |"
   ]
  },
  {
   "cell_type": "code",
   "execution_count": null,
   "metadata": {},
   "outputs": [],
   "source": []
  },
  {
   "cell_type": "markdown",
   "metadata": {
    "tags": [
     "en"
    ]
   },
   "source": [
    "Answer: **You can write the answer in multiple cells**"
   ]
  },
  {
   "cell_type": "markdown",
   "metadata": {
    "tags": [
     "en"
    ]
   },
   "source": [
    "##### 2.2. question (10%):\n",
    "\n",
    "Choose an appropriate clustering algorithm and a suitable method for evaluating the clustering performance. Justify your choice."
   ]
  },
  {
   "cell_type": "markdown",
   "metadata": {
    "tags": [
     "en"
    ]
   },
   "source": [
    "Answer: **You can write the answer in multiple cells**"
   ]
  },
  {
   "cell_type": "markdown",
   "metadata": {
    "tags": [
     "en"
    ]
   },
   "source": [
    "##### 2.3. question (20%):\n",
    "\n",
    "For the selected algorithm, test several parameter values or their combinations, and evaluate the performance using the chosen method."
   ]
  },
  {
   "cell_type": "code",
   "execution_count": null,
   "metadata": {},
   "outputs": [],
   "source": []
  },
  {
   "cell_type": "markdown",
   "metadata": {
    "tags": [
     "en"
    ]
   },
   "source": [
    "Answer: **You can write the answer in multiple cells**"
   ]
  },
  {
   "cell_type": "markdown",
   "metadata": {
    "tags": [
     "en"
    ]
   },
   "source": [
    "##### 2.4. question (10%):\n",
    "\n",
    "Present the results using an appropriate visualization.\n",
    "\n",
    "How many groups of movies are there among the selected ones? List the individual groups and the movies that belong to them.\n",
    "\n",
    "Comment on the meaningfulness of the obtained results."
   ]
  },
  {
   "cell_type": "code",
   "execution_count": null,
   "metadata": {},
   "outputs": [],
   "source": []
  },
  {
   "cell_type": "markdown",
   "metadata": {
    "tags": [
     "en"
    ]
   },
   "source": [
    "Answer: **You can write the answer in multiple cells**"
   ]
  }
 ],
 "metadata": {
  "kernelspec": {
   "display_name": "PRvaje",
   "language": "python",
   "name": "python3"
  },
  "language_info": {
   "codemirror_mode": {
    "name": "ipython",
    "version": 3
   },
   "file_extension": ".py",
   "mimetype": "text/x-python",
   "name": "python",
   "nbconvert_exporter": "python",
   "pygments_lexer": "ipython3",
   "version": "3.11.8"
  },
  "latex_envs": {
   "LaTeX_envs_menu_present": true,
   "autocomplete": true,
   "bibliofile": "biblio.bib",
   "cite_by": "apalike",
   "current_citInitial": 1,
   "eqLabelWithNumbers": true,
   "eqNumInitial": 1,
   "hotkeys": {
    "equation": "Ctrl-E",
    "itemize": "Ctrl-I"
   },
   "labels_anchors": false,
   "latex_user_defs": false,
   "report_style_numbering": false,
   "user_envs_cfg": false
  },
  "nbTranslate": {
   "displayLangs": [
    "sl"
   ],
   "hotkey": "alt-t",
   "langInMainMenu": true,
   "sourceLang": "sl",
   "targetLang": "en",
   "useGoogleTranslate": true
  }
 },
 "nbformat": 4,
 "nbformat_minor": 2
}
