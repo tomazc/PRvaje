{
  "cells": [
    {
      "cell_type": "markdown",
      "metadata": {
        "tags": [
          "sl"
        ]
      },
      "source": [
        "## Primer: genomski podatki\n",
        "\n",
        "Razvoj na področju biotehnologije omogoča pridobivanje vedno več podatkov o organizmih.  \n",
        "Eden najpogostejših podatkovnih tipov, s katerimi primerjamo vrste, so **genski zapisi**. Ti so primerni za računalniško obdelavo, saj jih lahko poenostavimo v zaporedje štirih nukleotidov: A, C, G in T.  \n",
        "Celoten človeški genski zapis, ki določa vse — od barve oči do nagnjenosti k določenim boleznim — je zapisan v približno $3 \\times 10^{9}$ parih baz DNK.\n",
        "\n",
        "Pri razmnoževanju pride do prepisovanja in kombiniranja DNA zapisov staršev. Ta proces seveda ni popoln, zato prihaja do napak – *mutacij*.  \n",
        "Dolgoročna posledica mutacij je nastanek različnih živalskih vrst, kar pomeni, da imajo sorodnejše vrste bolj podobne genske zapise.\n",
        "\n",
        "Iz baze genskih zapisov smo naložili zaporedja mitohondrijskega gena **citokrom b** (*cytb*) za 30 različnih vrst.\n",
        "Mitohondrijski geni, kot je *cytb*, se pogosto uporabljajo pri filogenetskih analizah, ker se prenašajo skoraj izključno po materini liniji in se spreminjajo počasneje kot jedrni geni.  \n",
        "Zaradi tega so zelo uporabni za raziskovanje evolucijskih odnosov med vrstami.\n",
        "\n",
        "Podatke najprej pridobimo iz spleta."
      ]
    },
    {
      "cell_type": "markdown",
      "metadata": {
        "tags": [
          "en"
        ]
      },
      "source": [
        "## Example: genomic data\n",
        "\n",
        "Advances in biotechnology have made it possible to acquire much more detailed data about living organisms.  \n",
        "One of the most common data types used to compare species are **genetic sequences**. These are well-suited for computational analysis, as they can be represented as sequences of four nucleotides: A, C, G, and T.  \n",
        "The complete human genome, which determines everything from eye color to susceptibility to certain diseases, consists of roughly $3 \\times 10^{9}$ DNA base pairs.\n",
        "\n",
        "During reproduction, the DNA of both parents is transcribed and combined. This process is not perfect, and errors — *mutations* — occur.  \n",
        "Over time, these mutations lead to the emergence of different species, meaning that closely related species have more similar genetic sequences.\n",
        "\n",
        "From a genetic database, we have retrieved the mitochondrial **cytochrome b** (*cytb*) gene sequences for 30 species.\n",
        "Mitochondrial genes like *cytb* are often used in phylogenetic analysis because they are inherited almost exclusively through the maternal line and evolve more slowly than nuclear genes.  \n",
        "This makes them particularly useful for studying evolutionary relationships between species.\n",
        "\n",
        "First we obtain the data from the internet."
      ]
    },
    {
      "cell_type": "code",
      "execution_count": 1,
      "metadata": {},
      "outputs": [
        {
          "name": "stdout",
          "output_type": "stream",
          "text": [
            "Loading ... Homo sapiens\n",
            "Loading ... Homo sapiens neanderthalensis\n",
            "Loading ... Pan troglodytes\n",
            "Loading ... Gorilla gorilla\n",
            "Loading ... Pongo abelii\n",
            "Loading ... Canis lupus familiaris\n",
            "Loading ... Equus caballus\n",
            "Loading ... Bos taurus\n",
            "Loading ... Felis catus\n",
            "Loading ... Mus musculus\n",
            "Loading ... Panthera tigris\n",
            "Loading ... Panthera leo\n",
            "Loading ... Ursus arctos\n",
            "Loading ... Cervus elaphus\n",
            "Loading ... Ovis aries\n",
            "Loading ... Gallus gallus\n",
            "Loading ... Taeniopygia guttata\n",
            "Loading ... Columba livia\n",
            "Loading ... Spheniscus demersus\n",
            "Loading ... Anas platyrhynchos\n",
            "Loading ... Bufo gargarizans\n",
            "Loading ... Chamaeleo calyptratus\n",
            "Loading ... Aneides aeneus\n",
            "Loading ... Xenopus laevis\n",
            "Loading ... Chelonoidis carbonarius\n",
            "Loading ... Takifugu rubripes\n",
            "Loading ... Danio rerio\n",
            "Loading ... Salvelinus malma malma\n",
            "Loading ... Cyprinus carpio\n",
            "Loading ... Salmo salar\n"
          ]
        }
      ],
      "source": [
        "from Bio import Entrez\n",
        "from Bio import SeqIO\n",
        "import json\n",
        "\n",
        "species = [\n",
        "    # Primates (incl. Neanderthal)\n",
        "    (\"Homo sapiens\",                    \"NC_012920.1\"),\n",
        "    (\"Homo sapiens neanderthalensis\",   \"NC_011137.1\"),\n",
        "    (\"Pan troglodytes\",                 \"NC_001643.1\"), #chimpanzee\n",
        "    (\"Gorilla gorilla\",                 \"NC_001645.1\"), \n",
        "    (\"Pongo abelii\",                    \"NC_002083.1\"), #orangutan\n",
        "\n",
        "    # Mammals (other; predators & herbivores / omnivores)\n",
        "    (\"Canis lupus familiaris\",          \"NC_002008.4\"),\n",
        "    (\"Equus caballus\",                  \"NC_001640.1\"),\n",
        "    (\"Bos taurus\",                      \"NC_006853.1\"),\n",
        "    (\"Felis catus\",                     \"NC_001700.1\"),\n",
        "    (\"Mus musculus\",                    \"NC_005089.1\"),\n",
        "    (\"Panthera tigris\",                 \"NC_010642.1\"),  \n",
        "    (\"Panthera leo\",                    \"NC_028306.1\"),  \n",
        "    (\"Ursus arctos\",                    \"NC_003427.1\"),   \n",
        "    (\"Cervus elaphus\",                  \"NC_027844.1\"),  \n",
        "    (\"Ovis aries\",                      \"NC_001941.1\"),  \n",
        "\n",
        "    # Birds\n",
        "    (\"Gallus gallus\",                   \"AY235570.1\"),\n",
        "    (\"Taeniopygia guttata\",             \"NC_007897.1\"),\n",
        "    (\"Columba livia\",                   \"NC_025926.1\"),\n",
        "    (\"Spheniscus demersus\",             \"NC_008434.1\"),\n",
        "    (\"Anas platyrhynchos\",              \"NC_009684.1\"),\n",
        "\n",
        "    # Reptiles / Amphibians\n",
        "    (\"Bufo gargarizans\",                \"KU321581\"), \n",
        "    (\"Chamaeleo calyptratus\",           \"NC_012420.1\"),\n",
        "    (\"Aneides aeneus\",               \"OM743432 \"), \n",
        "    (\"Xenopus laevis\",                  \"NC_001573.1\"),\n",
        "    (\"Chelonoidis carbonarius\",                \"OQ789392\"),\n",
        "\n",
        "    # Fish\n",
        "    (\"Takifugu rubripes\",               \"NC_004299.1\"),\n",
        "    (\"Danio rerio\",                     \"NC_002333.2\"),\n",
        "    (\"Salvelinus malma malma\",           \"MF680544\"),\n",
        "    (\"Cyprinus carpio\",                 \"X61010.1\"),\n",
        "    (\"Salmo salar\",                     \"NC_001960.1\"),\n",
        "]\n",
        "\n",
        "# Data loading\n",
        "target_gene = \"cytb\"  \n",
        "infile = \"../data/seqs.json\"\n",
        "seqs = dict()\n",
        "for name, sid in species:\n",
        "    print(\"Loading ...\", name)\n",
        "    t = False\n",
        "    while not t:\n",
        "        try:\n",
        "            handle = Entrez.efetch(db=\"nucleotide\", rettype=\"gb\", id=sid,\n",
        "                           email=\"a@gmail.com\")\n",
        "            rec = SeqIO.read(handle, \"gb\")\n",
        "            \n",
        "            for feature in rec.features:\n",
        "                if feature.type == \"gene\" or feature.type == \"CDS\":\n",
        "                    gene_name = feature.qualifiers.get(\"gene\", [\"\"])[0]\n",
        "                    if gene_name.lower() == target_gene.lower():\n",
        "                        gene_seq = feature.extract(rec.seq)\n",
        "                        break          \n",
        "            t = True\n",
        "        except:\n",
        "            continue\n",
        "    seqs[name] = str(gene_seq)   \n",
        "    \n",
        "json.dump(seqs, open(infile, \"w\"))"
      ]
    },
    {
      "cell_type": "code",
      "execution_count": 2,
      "metadata": {},
      "outputs": [
        {
          "name": "stdout",
          "output_type": "stream",
          "text": [
            "1141\n",
            "ATGACCCCAATACGCAAAACTAACCCCCTAATAAAATTAATTAACCACTCATTCATCGACCTCCCCACCCCATCCAACATCTCCGCATGATGAAACTTCGGCTCACTCCTTGGCGCCTGCCTGATCCTCCAAATCACCACAGGACTATTCCTAGCCATGCACTACTCACCAGACGCCTCAACCGCCTTTTCATCAATCGCCCACATCACTCGAGACGTAAATTATGGCTGAATCATCCGCTACCTTCACGCCAATGGCGCCTCAATATTCTTTATCTGCCTCTTCCTACACATCGGGCGAGGCCTATATTACGGATCATTTCTCTACTCAGAAACCTGAAACATCGGCATTATCCTCCTGCTTGCAACTATAGCAACAGCCTTCATAGGCTATGTCCTCCCGTGAGGCCAAATATCATTCTGAGGGGCCACAGTAATTACAAACTTACTATCCGCCATCCCATACATTGGGACAGACCTAGTTCAATGAATCTGAGGAGGCTACTCAGTAGACAGTCCCACCCTCACACGATTCTTTACCTTTCACTTCATCTTGCCCTTCATTATTGCAGCCCTAGCAACACTCCACCTCCTATTCTTGCACGAAACGGGATCAAACAACCCCCTAGGAATCACCTCCCATTCCGATAAAATCACCTTCCACCCTTACTACACAATCAAAGACGCCCTCGGCTTACTTCTCTTCCTTCTCTCCTTAATGACATTAACACTATTCTCACCAGACCTCCTAGGCGACCCAGACAATTATACCCTAGCCAACCCCTTAAACACCCCTCCCCACATCAAGCCCGAATGATATTTCCTATTCGCCTACACAATTCTCCGATCCGTCCCTAACAAACTAGGAGGCGTCCTTGCCCTATTACTATCCATCCTCATCCTAGCAATAATCCCCATCCTCCATATATCCAAACAACAAAGCATAATATTTCGCCCACTAAGCCAATCACTTTATTGACTCCTAGCCGCAGACCTCCTCATTCTAACCTGAATCGGAGGACAACCAGTAAGCTACCCTTTTACCATCATTGGACAAGTAGCATCCGTACTATACTTCACAACAATCCTAATCCTAATACCAACTATCTCCCTAATTGAAAACAAAATACTCAAATGGGCCT\n"
          ]
        }
      ],
      "source": [
        "sequences = json.load(open(\"../data/seqs.json\"))\n",
        "\n",
        "print(len(sequences[\"Homo sapiens\"]))\n",
        "print(sequences[\"Homo sapiens\"])"
      ]
    },
    {
      "cell_type": "markdown",
      "metadata": {
        "tags": [
          "sl"
        ]
      },
      "source": [
        "##### Vprašanje 5-3-1\n",
        "\n",
        "Kako bi lahko primerjali živalske vrste glede na zapise, ki so podani kot nizi znakov? Prva ideja je, da podatke pretvorimo v **vektorski prostor**, v katerem lahko računamo razdalje med vrstami.  \n",
        "\n",
        "*Namig:* zaporedja lahko razbiješ na manjše dele in prešteješ število pojavitev posameznih znakov, parov, trojk, ... **k-terk**.  \n",
        "Po želji lahko upoštevaš tudi položaj v zaporedju.\n",
        "\n",
        "Dopolni in si pomagaj s funkcijo `seq_to_kmer_count`, ki niz znakov pretvori v vektor števila pojavitev vseh mogočih k-terk.\n",
        "\n",
        "Prevedi podatke v ustrezno obliko, izvedi **hierarhično gručenje** in prikaži rezultate.  \n",
        "Ali so vrste na dendrogramu postavljene smiselno?  \n",
        "Dobiti moraš sliko, podobno tej:\n"
      ]
    },
    {
      "cell_type": "markdown",
      "metadata": {
        "tags": [
          "en"
        ]
      },
      "source": [
        "##### Question 5-3-1\n",
        "\n",
        "How could you compare animal species based on records that are given as character strings?  \n",
        "The first idea is to convert the data into a **vector space**, where we can compute distances between species.\n",
        "\n",
        "💡 *Hint:* You can break sequences into smaller parts and count the occurrences of individual characters, pairs, triples, ... **k-mers**.  \n",
        "You can also take the position within the sequence into account if you wish.\n",
        "\n",
        "Complete and use the `seq_to_kmer_count` function, which converts a character string into a vector representing the counts of all possible k-mers.\n",
        "\n",
        "Convert the data into the appropriate format, perform **hierarchical clustering**, and visualize the results.  \n",
        "Are the species positioned in a meaningful way on the dendrogram?  \n",
        "You should obtain an image similar to this one:"
      ]
    },
    {
      "cell_type": "markdown",
      "metadata": {},
      "source": [
        "<img src=\"../slike/nizi_dendrogram.png\"></img>"
      ]
    },
    {
      "cell_type": "code",
      "execution_count": 3,
      "metadata": {
        "collapsed": true
      },
      "outputs": [],
      "source": [
        "from itertools import product\n",
        "import numpy as np\n",
        "def seq_to_kmer_count(seq, k=4):\n",
        "    \"\"\"\n",
        "    Pretvori zaporedje seq v vektor x.\n",
        "         AAAA AAAC AAAG AAAT ... TTTG TTTT\n",
        "    x = [   1  1      2   10 ...   12    7]\n",
        "    len(x) == len(seq) - k + 1\n",
        "    \"\"\"   \n",
        "    ktuples = list(zip(*[seq[i:] for i in range(k)]))\n",
        "    kmers   = list(product(*(k*[[\"A\", \"C\", \"T\", \"G\"]])))\n",
        "    \n",
        "    x = np.zeros((len(kmers), ))\n",
        "    ### Your code here ### \n",
        "\n",
        "    return x"
      ]
    },
    {
      "cell_type": "markdown",
      "metadata": {
        "tags": [
          "sl"
        ]
      },
      "source": [
        "[Odgovor](205-3.ipynb#Odgovor-5-3-1)"
      ]
    },
    {
      "cell_type": "markdown",
      "metadata": {
        "tags": [
          "en"
        ]
      },
      "source": [
        "[Answer](205-3.ipynb#Answer-5-3-1)"
      ]
    }
  ],
  "metadata": {
    "kernelspec": {
      "display_name": "PRvaje",
      "language": "python",
      "name": "python3"
    },
    "language_info": {
      "codemirror_mode": {
        "name": "ipython",
        "version": 3
      },
      "file_extension": ".py",
      "mimetype": "text/x-python",
      "name": "python",
      "nbconvert_exporter": "python",
      "pygments_lexer": "ipython3",
      "version": "3.11.8"
    },
    "latex_envs": {
      "LaTeX_envs_menu_present": true,
      "autocomplete": true,
      "bibliofile": "biblio.bib",
      "cite_by": "apalike",
      "current_citInitial": 1,
      "eqLabelWithNumbers": true,
      "eqNumInitial": 1,
      "hotkeys": {
        "equation": "Ctrl-E",
        "itemize": "Ctrl-I"
      },
      "labels_anchors": false,
      "latex_user_defs": false,
      "report_style_numbering": false,
      "user_envs_cfg": false
    },
    "nbTranslate": {
      "displayLangs": [
        "sl"
      ],
      "hotkey": "alt-t",
      "langInMainMenu": true,
      "sourceLang": "sl",
      "targetLang": "en",
      "useGoogleTranslate": true
    }
  },
  "nbformat": 4,
  "nbformat_minor": 1
}
