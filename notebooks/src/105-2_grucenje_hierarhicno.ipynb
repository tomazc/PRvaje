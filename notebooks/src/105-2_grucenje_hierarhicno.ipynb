{
  "cells": [
    {
      "cell_type": "markdown",
      "metadata": {
        "tags": [
          "sl"
        ]
      },
      "source": [
        "## Hierarhično gručenje\n",
        "\n",
        "Na predavanjih smo spoznali algoritem **hierarhičnega gručenja**.  \n",
        "Njegova glavna značilnost je, da omogoča primerjavo objektov na podlagi izbrane **mere razdalje** med njimi.  \n",
        "Zaradi tega podatkov ni nujno predstaviti v vektorskih prostorih.\n",
        "\n",
        "Algoritem je **determinističen** in ne zahteva, da vnaprej določimo število gruč.  \n",
        "Struktura gručenja se izračuna enkrat za vse možne številke gruč v intervalu $[1, n]$,  \n",
        "odločitev o končnem številu gruč pa sprejmemo **naknadno**, na podlagi dendrograma.\n",
        "\n",
        "Hierarhično gručenje gradi **hierarhijo (drevo)** gruč.  \n",
        "Na začetku vsaka točka tvori svojo gručo. Nato algoritem postopno združuje najbližji par gruč,  \n",
        "dokler ne ostane le ena sama gruča.\n",
        "\n",
        "Rezultat je **dendrogram**, drevesni diagram, ki prikazuje, kako se gruče združujejo korak za korakom.\n",
        "\n",
        "##### Vprašanje 5-2-1\n",
        "\n",
        "Kakšna je časovna zahtevnost algoritma za hierarhično gručenje? Kako se primerja z metodo K-means?"
      ]
    },
    {
      "cell_type": "markdown",
      "metadata": {
        "tags": [
          "en"
        ]
      },
      "source": [
        "## Hierarchical clustering\n",
        "\n",
        "At the lectures, we learned about the **hierarchical clustering** algorithm.  \n",
        "Its main characteristic is that it allows comparison of objects based on a defined **distance measure** between them.  \n",
        "Because of that, data representation is not necessarily limited to vector spaces.\n",
        "\n",
        "The algorithm is **deterministic** and does not require the number of clusters to be specified in advance.  \n",
        "The clustering structure is computed once for all possible numbers of clusters in the interval $[1, n]$,  \n",
        "and the final number of clusters can be decided **afterward**, based on the dendrogram.\n",
        "\n",
        "Hierarchical clustering builds a **hierarchy (a tree)** of clusters.  \n",
        "At first, each data point is its own cluster. Then, the algorithm repeatedly merges the two closest clusters until only one remains.\n",
        "\n",
        "The result is a **dendrogram**, a tree-like diagram that shows how clusters merge step by step.\n",
        "\n",
        "##### Question 5-2-1\n",
        "\n",
        "What is the time complexity of the algorithm for hierarchical clustering? How does it compare with the K-means method?"
      ]
    },
    {
      "cell_type": "markdown",
      "metadata": {},
      "source": []
    },
    {
      "cell_type": "markdown",
      "metadata": {},
      "source": [
        "[Odgovor](205-2.ipynb#Odgovor-5-2-1)"
      ]
    },
    {
      "cell_type": "markdown",
      "metadata": {},
      "source": [
        "[Answer](205-2.ipynb#Answer-5-2-1)"
      ]
    },
    {
      "cell_type": "code",
      "execution_count": 1,
      "metadata": {},
      "outputs": [],
      "source": [
        "import numpy as np\n",
        "import matplotlib.pyplot as plt\n",
        "import pandas as pd\n",
        "import scipy.cluster.hierarchy as sch\n",
        "import scipy"
      ]
    },
    {
      "cell_type": "markdown",
      "metadata": {
        "tags": [
          "sl"
        ]
      },
      "source": [
        "### Podatki\n",
        "\n",
        "<img src=\"../slike/živali.jpg\"></img> \n",
        "\n",
        "Današnji podatki spominjajo na (starejši generaciji dobro znani) album sličic z živalmi. Vsebuje 59 živalskih vrst ter 16 atributov, ki opisuje pripadajoče anatomske značilnosti. Živali so razdeljene v 7 razredov."
      ]
    },
    {
      "cell_type": "markdown",
      "metadata": {
        "tags": [
          "en"
        ]
      },
      "source": [
        "### Data\n",
        "\n",
        "<img src=\"../slike/živali.jpg\"></img>\n",
        "\n",
        "Today's data is reminiscent of (well-known to older generations) an album of animal pictures. It contains 59 animal species and 16 attributes that describe the associated anatomical characteristics. Animals are divided into 7 classes."
      ]
    },
    {
      "cell_type": "code",
      "execution_count": 2,
      "metadata": {},
      "outputs": [
        {
          "name": "stdout",
          "output_type": "stream",
          "text": [
            "Index(['hair', 'feathers', 'eggs', 'milk', 'airborne', 'aquatic', 'predator',\n",
            "       'toothed', 'backbone', 'breathes', 'venomous', 'fins', 'legs', 'tail',\n",
            "       'domestic', 'catsize', 'type', 'name'],\n",
            "      dtype='object')\n"
          ]
        },
        {
          "data": {
            "text/html": [
              "<div>\n",
              "<style scoped>\n",
              "    .dataframe tbody tr th:only-of-type {\n",
              "        vertical-align: middle;\n",
              "    }\n",
              "\n",
              "    .dataframe tbody tr th {\n",
              "        vertical-align: top;\n",
              "    }\n",
              "\n",
              "    .dataframe thead th {\n",
              "        text-align: right;\n",
              "    }\n",
              "</style>\n",
              "<table border=\"1\" class=\"dataframe\">\n",
              "  <thead>\n",
              "    <tr style=\"text-align: right;\">\n",
              "      <th></th>\n",
              "      <th>hair</th>\n",
              "      <th>feathers</th>\n",
              "      <th>eggs</th>\n",
              "      <th>milk</th>\n",
              "      <th>airborne</th>\n",
              "      <th>aquatic</th>\n",
              "      <th>predator</th>\n",
              "      <th>toothed</th>\n",
              "      <th>backbone</th>\n",
              "      <th>breathes</th>\n",
              "      <th>venomous</th>\n",
              "      <th>fins</th>\n",
              "      <th>legs</th>\n",
              "      <th>tail</th>\n",
              "      <th>domestic</th>\n",
              "      <th>catsize</th>\n",
              "      <th>type</th>\n",
              "      <th>name</th>\n",
              "    </tr>\n",
              "  </thead>\n",
              "  <tbody>\n",
              "    <tr>\n",
              "      <th>0</th>\n",
              "      <td>1</td>\n",
              "      <td>0</td>\n",
              "      <td>0</td>\n",
              "      <td>1</td>\n",
              "      <td>0</td>\n",
              "      <td>0</td>\n",
              "      <td>1</td>\n",
              "      <td>1</td>\n",
              "      <td>1</td>\n",
              "      <td>1</td>\n",
              "      <td>0</td>\n",
              "      <td>0</td>\n",
              "      <td>4</td>\n",
              "      <td>0</td>\n",
              "      <td>0</td>\n",
              "      <td>1</td>\n",
              "      <td>mammal</td>\n",
              "      <td>aardvark</td>\n",
              "    </tr>\n",
              "    <tr>\n",
              "      <th>1</th>\n",
              "      <td>1</td>\n",
              "      <td>0</td>\n",
              "      <td>0</td>\n",
              "      <td>1</td>\n",
              "      <td>0</td>\n",
              "      <td>0</td>\n",
              "      <td>0</td>\n",
              "      <td>1</td>\n",
              "      <td>1</td>\n",
              "      <td>1</td>\n",
              "      <td>0</td>\n",
              "      <td>0</td>\n",
              "      <td>4</td>\n",
              "      <td>1</td>\n",
              "      <td>0</td>\n",
              "      <td>1</td>\n",
              "      <td>mammal</td>\n",
              "      <td>antelope</td>\n",
              "    </tr>\n",
              "    <tr>\n",
              "      <th>2</th>\n",
              "      <td>0</td>\n",
              "      <td>0</td>\n",
              "      <td>1</td>\n",
              "      <td>0</td>\n",
              "      <td>0</td>\n",
              "      <td>1</td>\n",
              "      <td>1</td>\n",
              "      <td>1</td>\n",
              "      <td>1</td>\n",
              "      <td>0</td>\n",
              "      <td>0</td>\n",
              "      <td>1</td>\n",
              "      <td>0</td>\n",
              "      <td>1</td>\n",
              "      <td>0</td>\n",
              "      <td>0</td>\n",
              "      <td>fish</td>\n",
              "      <td>bass</td>\n",
              "    </tr>\n",
              "    <tr>\n",
              "      <th>3</th>\n",
              "      <td>1</td>\n",
              "      <td>0</td>\n",
              "      <td>0</td>\n",
              "      <td>1</td>\n",
              "      <td>0</td>\n",
              "      <td>0</td>\n",
              "      <td>1</td>\n",
              "      <td>1</td>\n",
              "      <td>1</td>\n",
              "      <td>1</td>\n",
              "      <td>0</td>\n",
              "      <td>0</td>\n",
              "      <td>4</td>\n",
              "      <td>1</td>\n",
              "      <td>0</td>\n",
              "      <td>1</td>\n",
              "      <td>mammal</td>\n",
              "      <td>boar</td>\n",
              "    </tr>\n",
              "    <tr>\n",
              "      <th>4</th>\n",
              "      <td>1</td>\n",
              "      <td>0</td>\n",
              "      <td>0</td>\n",
              "      <td>1</td>\n",
              "      <td>0</td>\n",
              "      <td>0</td>\n",
              "      <td>0</td>\n",
              "      <td>1</td>\n",
              "      <td>1</td>\n",
              "      <td>1</td>\n",
              "      <td>0</td>\n",
              "      <td>0</td>\n",
              "      <td>4</td>\n",
              "      <td>1</td>\n",
              "      <td>1</td>\n",
              "      <td>1</td>\n",
              "      <td>mammal</td>\n",
              "      <td>calf</td>\n",
              "    </tr>\n",
              "  </tbody>\n",
              "</table>\n",
              "</div>"
            ],
            "text/plain": [
              "   hair  feathers  eggs  milk  airborne  aquatic  predator  toothed  backbone  \\\n",
              "0     1         0     0     1         0        0         1        1         1   \n",
              "1     1         0     0     1         0        0         0        1         1   \n",
              "2     0         0     1     0         0        1         1        1         1   \n",
              "3     1         0     0     1         0        0         1        1         1   \n",
              "4     1         0     0     1         0        0         0        1         1   \n",
              "\n",
              "   breathes  venomous  fins  legs  tail  domestic  catsize    type      name  \n",
              "0         1         0     0     4     0         0        1  mammal  aardvark  \n",
              "1         1         0     0     4     1         0        1  mammal  antelope  \n",
              "2         0         0     1     0     1         0        0    fish      bass  \n",
              "3         1         0     0     4     1         0        1  mammal      boar  \n",
              "4         1         0     0     4     1         1        1  mammal      calf  "
            ]
          },
          "execution_count": 2,
          "metadata": {},
          "output_type": "execute_result"
        }
      ],
      "source": [
        "data = pd.read_table('../data/zoo.tab', skiprows=[1,2])\n",
        "print(data.columns)\n",
        "data.head(5)"
      ]
    },
    {
      "cell_type": "markdown",
      "metadata": {
        "tags": [
          "sl"
        ]
      },
      "source": [
        "Zanimala nas bodo atributi posameznih živali."
      ]
    },
    {
      "cell_type": "markdown",
      "metadata": {
        "tags": [
          "en"
        ]
      },
      "source": [
        "We are interested in the attributes of each animal."
      ]
    },
    {
      "cell_type": "code",
      "execution_count": 3,
      "metadata": {},
      "outputs": [],
      "source": [
        "X = data.iloc[:,:16]\n",
        "Y = data.iloc[:,16]"
      ]
    },
    {
      "cell_type": "markdown",
      "metadata": {
        "tags": [
          "sl"
        ]
      },
      "source": [
        "Rezultat gručenja dobimo z uporabo modula `scipy.cluster.hierarchy` in metode `linkage`. Slednja izračune povezave v drevesu (dendrogramu) glede na dano mero razdalje (`metric`) in načinom merjenja razdalj med gručami (`method`)."
      ]
    },
    {
      "cell_type": "markdown",
      "metadata": {
        "tags": [
          "en"
        ]
      },
      "source": [
        "The clustering result is obtained using the `scipy.cluster.hierarchy` module and the `linkage` method. The latter calculates the connection in the tree (dendrogram) with respect to a given distance measure (`metric`) and the method of measuring the distance between clusters (`method`)."
      ]
    },
    {
      "cell_type": "code",
      "execution_count": 4,
      "metadata": {
        "scrolled": false
      },
      "outputs": [],
      "source": [
        "L = sch.linkage(X, method=\"average\", metric=\"cityblock\")"
      ]
    },
    {
      "cell_type": "markdown",
      "metadata": {
        "tags": [
          "sl"
        ]
      },
      "source": [
        "Z uporabo funkcije `dendrogram` narišemo drevo in mu priredimo oznake. Funkcija deluje v navezi z že znano knjižnico `matplotlib`."
      ]
    },
    {
      "cell_type": "markdown",
      "metadata": {
        "tags": [
          "en"
        ]
      },
      "source": [
        "Using the `dendrogram` function, we draw a tree and organize it with labels. The function works in conjunction with the already known `matplotlib` library."
      ]
    },
    {
      "cell_type": "code",
      "execution_count": 5,
      "metadata": {},
      "outputs": [
        {
          "data": {
            "image/png": "[encoded data removed]",
            "text/plain": [
              "<Figure size 2500x600 with 1 Axes>"
            ]
          },
          "metadata": {},
          "output_type": "display_data"
        }
      ],
      "source": [
        "plt.figure(figsize=(25, 6))\n",
        "labels = data['name'].values\n",
        "D = sch.dendrogram(L, labels=labels, leaf_font_size=15)\n",
        "plt.ylabel(\"Razdalja\")\n",
        "plt.show()"
      ]
    },
    {
      "cell_type": "markdown",
      "metadata": {
        "tags": [
          "sl"
        ]
      },
      "source": [
        "Vsako združevanje v dendrogramu predstavlja združitev dveh gruč.  \n",
        "**Višina** združitve prikazuje **razdaljo** med gručami.  \n",
        "Za določitev števila gruč lahko “razrežemo” drevo pri izbrani višini.\n",
        "\n",
        "Za prvi poizkus bo v redu, a dendrogram vseeno izgleda nekoliko sploščen. Pri metodi lahko spremenimo različne parametre."
      ]
    },
    {
      "cell_type": "markdown",
      "metadata": {
        "tags": [
          "en"
        ]
      },
      "source": [
        "Each merge in the dendrogram represents two clusters joining together.  \n",
        "The **height** of the merge indicates the **distance** between clusters.  \n",
        "To decide the number of clusters, we can “cut” the tree at a chosen height.\n",
        "\n",
        "It's okay, for the first try. Nevertheless, the dendrogram seems somewhat flat. We can change various method parameters."
      ]
    },
    {
      "cell_type": "markdown",
      "metadata": {
        "tags": [
          "sl"
        ]
      },
      "source": [
        "### Metode povezovanja\n",
        "\n",
        "Metode povezovanja določajo način, kako izračunati razdaljo med dvema poljubno velikima gručama točk.\n",
        "* **Posamično povezovanje** (method=\"single\"); Razdalja med gručama je razdalja med najbližjima točkama gruč.\n",
        "* **Povprečna razdalja** (method=\"average\"); Povprečna razdalja med vsemi pari točk. \n",
        "* **Razdalja med središčema** (method=\"centroid\"); Izračuna središči gruč v prostoru ter njuno medsebojno razdaljo. Mera razdalje je nujno evklidska.\n",
        "* In še mnogo drugih.\n",
        "\n",
        "##### Vprašanje 5-2-2\n",
        "\n",
        "Preizkusi različne oblike dendrograma glede na izbrano metodo povezovanja."
      ]
    },
    {
      "cell_type": "markdown",
      "metadata": {
        "tags": [
          "en"
        ]
      },
      "source": [
        "### Linkage methods\n",
        "\n",
        "Linkage methods determine how to calculate the distance between two arbitrarily large points points.\n",
        "\n",
        "* **Single linkage** (method = \"single\"); The distance between the clusters is the distance between the closest points of the clusters.\n",
        "* **Average linkage** (method = \"average\"); The average distance between all pairs of points.\n",
        "* **Centroid linkage** (method = \"centroid\"); Calculates the centers of clusters in the space and their mutual distance. The distance measure is necessarily Euclidean.\n",
        "* And many others.\n",
        "\n",
        "##### Question 5-2-2\n",
        "\n",
        "Test various forms of the dendrogram with respect to the selected linkage method."
      ]
    },
    {
      "cell_type": "code",
      "execution_count": null,
      "metadata": {},
      "outputs": [],
      "source": []
    },
    {
      "cell_type": "markdown",
      "metadata": {
        "tags": [
          "sl"
        ]
      },
      "source": [
        "[Odgovor](205-2.ipynb#Odgovor-5-2-2)"
      ]
    },
    {
      "cell_type": "markdown",
      "metadata": {
        "tags": [
          "en"
        ]
      },
      "source": [
        "[Answer](205-2.ipynb#Answer-5-2-2)"
      ]
    },
    {
      "cell_type": "markdown",
      "metadata": {
        "tags": [
          "sl"
        ]
      },
      "source": [
        "Ali je evklidska razdalja res najbolj primeren način primerjanja atributov, ki so diskretni? Ne vedno."
      ]
    },
    {
      "cell_type": "markdown",
      "metadata": {
        "tags": [
          "en"
        ]
      },
      "source": [
        "Is the Euclidean distance really the best way to compare attributes that are discrete? Not always."
      ]
    },
    {
      "cell_type": "markdown",
      "metadata": {
        "tags": [
          "sl"
        ]
      },
      "source": [
        "### Mere razdalje\n",
        "\n",
        "Način določanja interpretacije razdalje med točkama $\\vec{x} = (x_1, x_2, ..., x_p)$ in $\\vec{y} = (y_1, y_2, ..., y_p)$ vpliva na rezultat hierarhičnega gručenja. Izbira ustrezne mere je odvisna od narave podatkov in čimbolje odgovarja na vprašanje: *kaj pomeni, da sta dva primera podobna?*\n",
        "\n",
        "Na izbiro ustrezne mere lahko vplivajo:\n",
        "* Prisotnost manjkajočih vrednosti\n",
        "* Predstavitev podatkov (vektorji, nizi znakov, slike, ...)\n",
        "* Tip atributov in interpretacija vrednosti\n",
        "\n",
        "\n",
        "Nekaj pogostih mer razdalje:\n",
        "* Evklidska razdalja `(metric=\"euclidean\")`\n",
        "\n",
        "$$ d(\\vec{x}, \\vec{y}) = \\sqrt{(x_1-y_1)^2 + (x_2 - y_2)^2 + ... + (x_p - y_p)^2} $$\n",
        "\n",
        "* Manhattanska razdalja `(metric=\"cityblock\")`\n",
        "\n",
        "$$ d(\\vec{x}, \\vec{y}) = |x_1-y_1| + |x_2 - y_2| + ... + |x_p - y_p| $$\n",
        "\n",
        "* Kosinusna razdalja `(metric=\"cosine\")`\n",
        "\n",
        "Predstavlja *kosinus kota* med vektorjema $\\vec{x}$ in $\\vec{y}$ - manjši kot pomeni večjo podobnost. Uporabna za primerjavo podobnosti med vektorji, neupoštevajoč absolutnih velikosti.\n",
        "\n",
        "$$ d(\\vec{x}, \\vec{y}) = 1 - \\frac{\\vec{x} \\cdot \\vec{y}}{\\|\\vec{x}\\| \\|\\vec{y}\\|} $$\n",
        "\n",
        "* Jaccardov index `(metric=\"jaccard\")`\n",
        "\n",
        "Izmeri delež ujemanj med pari soležnih komponent $(x_i, y_i)$, kjer je vsaj ena izmed vrednosti $x_i$ ali $y_i$ večja od nič. Primerna za uporabo v primerih, ko imamo opravka z manjkajočimi vrednostmi ali diskretnimi atributi.\n",
        "\n",
        "Popoln spisek razdalj najdeš v [dokumentaciji](\"https://docs.scipy.org/doc/scipy/reference/generated/scipy.spatial.distance.pdist.html\").\n",
        "\n",
        "Poizkusi se spomniti vrste podatkov, kjer bi bilo smiselno uporabiti vsako posamezno mero.\n",
        "\n",
        "##### Vprašanje 5-2-3\n",
        "\n",
        "Preizkusi različne oblike dendrograma glede na izbrano mero razdalje."
      ]
    },
    {
      "cell_type": "markdown",
      "metadata": {
        "tags": [
          "en"
        ]
      },
      "source": [
        "###  Distance measures\n",
        "\n",
        "The method of determining the interpretation of the distance between the points $\\vec{x} = (x_1, x_2, ..., x_p)$ and $\\vec{y} = (y_1, y_2, ..., y_p)$ affects the result of hierarchical clustering. Choosing the right size depends on the nature of the data and answers the question as much as possible: *what does it mean when two examples are similar?*\n",
        "\n",
        "The choice of the appropriate measure may be affected by:\n",
        "\n",
        "* The presence of missing values\n",
        "* Data presentation (vectors, character strings, images, ...)\n",
        "* Attributes type and interpretation of values\n",
        "\n",
        "\n",
        "Some common distance measures:\n",
        "* Euclidean distance `(metric = \"euclidean\")`\n",
        "\n",
        "$$ d(\\vec{x}, \\vec{y}) = \\sqrt{(x_1-y_1)^2 + (x_2 - y_2)^2 + ... + (x_p - y_p)^2} $$\n",
        "\n",
        "* Manhattan distance `(metric = \"cityblock\")`\n",
        "\n",
        "$$ d(\\vec{x}, \\vec{y}) = |x_1-y_1| + |x_2 - y_2| + ... + |x_p - y_p| $$\n",
        "\n",
        "* Cosine distance `(metric = \"cosine\")`\n",
        "\n",
        "Represents the *cosine of the angle* between the $\\vec{x}$ and $\\vec{y}$ vectors - smaller angle means greater similarity. Useful for comparing the similarities between vectors, disregarding their absolute size.\n",
        "\n",
        "$$ d(\\vec{x}, \\vec{y}) = 1 - \\frac{\\vec{x} \\cdot \\vec{y}}{\\|\\vec{x}\\| \\|\\vec{y}\\|} $$\n",
        "\n",
        "* Jaccard index `(metric = \"jaccard\")`\n",
        "\n",
        "Measures the proportion of matches between $(x_i, y_i)$ pairs at the same positions, where at least one of the values $x_i$ or $y_i$ is greater than zero. Suitable for use in cases where we are dealing with missing values or discrete attributes.\n",
        "\n",
        "Find the complete list of distances in the [documentation](\"https://docs.scipy.org/doc/scipy/reference/generated/scipy.spatial.distance.pdist.html\").\n",
        "\n",
        "Try to think of the type of data where it would be sensible to use each single measure.\n",
        "\n",
        "##### Question 5-2-3\n",
        "\n",
        "Test various forms of the dendrogram with respect to the selected distance measure."
      ]
    },
    {
      "cell_type": "code",
      "execution_count": null,
      "metadata": {},
      "outputs": [],
      "source": []
    },
    {
      "cell_type": "markdown",
      "metadata": {
        "tags": [
          "sl"
        ]
      },
      "source": [
        "[Odgovor](205-2.ipynb#Odgovor-5-2-3)"
      ]
    },
    {
      "cell_type": "markdown",
      "metadata": {
        "tags": [
          "en"
        ]
      },
      "source": [
        "[Answer](205-2.ipynb#Answer-5-2-3)"
      ]
    },
    {
      "cell_type": "markdown",
      "metadata": {
        "tags": [
          "sl"
        ]
      },
      "source": [
        "### Določanje števila gruč\n",
        "\n",
        "Koliko gruč je v podatkih? Na to vprašanje je težko odgovoriti in tudi sicer velja za odprto vprašanje na področju storjnega učenja. Vseeno poznamo nekaj kazalcev, ki jih v grobem delimo na \n",
        "* **nadzorovane** (znani so resnični razredi podatkov)\n",
        "* **nenadzorovane** (znane so samo značilke in/ali razdalje med primeri)\n",
        "\n",
        "Za določitev pripadnosti primerov gručam uporabimo funkcijo `fcluster`. Slednja prejme parameter `t`, ki določa razdaljo pri kateri *odsekamo* dendrogram, t.j. odstranimo vse povezave, ki so daljše od dane dolžine. Preostale povezane komponente grafa dendrograma tako tvorijo skupine."
      ]
    },
    {
      "cell_type": "markdown",
      "metadata": {
        "tags": [
          "en"
        ]
      },
      "source": [
        "### Determining the number of clusters\n",
        "\n",
        "How many clusters are in the data? It is difficult to answer this question and it is also considered an open question in the field of machine learning. Nevertheless, we know some of the indicators that we roughly divide on\n",
        "* **supervised** (true data classes are known)\n",
        "* **unsupervised** (only the characteristics and/or distance between the examples are known)\n",
        "\n",
        "To determine the belonging of examples to clusters, we use the `fcluster` function. The latter receives the `t` parameter, which determines the distance at which we *cut* the dendrogram, i.e. remove all links that are longer than a given length. The remaining related components of the dendrogram graph thus form groups."
      ]
    },
    {
      "cell_type": "code",
      "execution_count": 6,
      "metadata": {},
      "outputs": [
        {
          "data": {
            "text/html": [
              "<div>\n",
              "<style scoped>\n",
              "    .dataframe tbody tr th:only-of-type {\n",
              "        vertical-align: middle;\n",
              "    }\n",
              "\n",
              "    .dataframe tbody tr th {\n",
              "        vertical-align: top;\n",
              "    }\n",
              "\n",
              "    .dataframe thead th {\n",
              "        text-align: right;\n",
              "    }\n",
              "</style>\n",
              "<table border=\"1\" class=\"dataframe\">\n",
              "  <thead>\n",
              "    <tr style=\"text-align: right;\">\n",
              "      <th></th>\n",
              "      <th>name</th>\n",
              "      <th>type</th>\n",
              "      <th>cluster</th>\n",
              "    </tr>\n",
              "  </thead>\n",
              "  <tbody>\n",
              "    <tr>\n",
              "      <th>0</th>\n",
              "      <td>aardvark</td>\n",
              "      <td>mammal</td>\n",
              "      <td>10</td>\n",
              "    </tr>\n",
              "    <tr>\n",
              "      <th>1</th>\n",
              "      <td>antelope</td>\n",
              "      <td>mammal</td>\n",
              "      <td>10</td>\n",
              "    </tr>\n",
              "    <tr>\n",
              "      <th>2</th>\n",
              "      <td>bass</td>\n",
              "      <td>fish</td>\n",
              "      <td>7</td>\n",
              "    </tr>\n",
              "    <tr>\n",
              "      <th>3</th>\n",
              "      <td>boar</td>\n",
              "      <td>mammal</td>\n",
              "      <td>10</td>\n",
              "    </tr>\n",
              "    <tr>\n",
              "      <th>4</th>\n",
              "      <td>calf</td>\n",
              "      <td>mammal</td>\n",
              "      <td>10</td>\n",
              "    </tr>\n",
              "    <tr>\n",
              "      <th>5</th>\n",
              "      <td>carp</td>\n",
              "      <td>fish</td>\n",
              "      <td>7</td>\n",
              "    </tr>\n",
              "    <tr>\n",
              "      <th>6</th>\n",
              "      <td>cavy</td>\n",
              "      <td>mammal</td>\n",
              "      <td>10</td>\n",
              "    </tr>\n",
              "    <tr>\n",
              "      <th>7</th>\n",
              "      <td>chicken</td>\n",
              "      <td>bird</td>\n",
              "      <td>9</td>\n",
              "    </tr>\n",
              "    <tr>\n",
              "      <th>8</th>\n",
              "      <td>clam</td>\n",
              "      <td>invertebrate</td>\n",
              "      <td>6</td>\n",
              "    </tr>\n",
              "    <tr>\n",
              "      <th>9</th>\n",
              "      <td>crab</td>\n",
              "      <td>invertebrate</td>\n",
              "      <td>2</td>\n",
              "    </tr>\n",
              "  </tbody>\n",
              "</table>\n",
              "</div>"
            ],
            "text/plain": [
              "       name          type  cluster\n",
              "0  aardvark        mammal       10\n",
              "1  antelope        mammal       10\n",
              "2      bass          fish        7\n",
              "3      boar        mammal       10\n",
              "4      calf        mammal       10\n",
              "5      carp          fish        7\n",
              "6      cavy        mammal       10\n",
              "7   chicken          bird        9\n",
              "8      clam  invertebrate        6\n",
              "9      crab  invertebrate        2"
            ]
          },
          "execution_count": 6,
          "metadata": {},
          "output_type": "execute_result"
        }
      ],
      "source": [
        "L = sch.linkage(X, method=\"average\", metric=\"cityblock\")   \n",
        "t = 3.5\n",
        "predictions = sch.fcluster(L, t=t, criterion=\"distance\").ravel()\n",
        "classes = data['type'].values \n",
        "\n",
        "data['cluster'] = predictions\n",
        "data[[\"name\", \"type\", \"cluster\"]].head(10)"
      ]
    },
    {
      "cell_type": "markdown",
      "metadata": {
        "tags": [
          "sl"
        ]
      },
      "source": [
        "Ponovno narišemo dendrogram in ga <i>odsekamo</i> pri dani razdalji. V nadaljevanju si bomo ogledali številske ocene uspešnosti gručenja."
      ]
    },
    {
      "cell_type": "markdown",
      "metadata": {
        "tags": [
          "en"
        ]
      },
      "source": [
        "Re-draw the dendrogram and <i>cut</i> it at the given distance. Below we'll see a number of estimates of clustering performance."
      ]
    },
    {
      "cell_type": "code",
      "execution_count": 7,
      "metadata": {},
      "outputs": [
        {
          "data": {
            "image/png": "[encoded data removed]",
            "text/plain": [
              "<Figure size 640x480 with 1 Axes>"
            ]
          },
          "metadata": {},
          "output_type": "display_data"
        }
      ],
      "source": [
        "D = sch.dendrogram(L, color_threshold=t, labels=classes)\n",
        "plt.axhline(y=t, color='black', linestyle='--')\n",
        "plt.ylabel(\"Razdalje\")\n",
        "plt.show()"
      ]
    },
    {
      "cell_type": "markdown",
      "metadata": {
        "tags": [
          "sl"
        ]
      },
      "source": [
        "#### Skupna deljena informacija\n",
        "\n",
        "Mera skupne deljene informacije je uporabna, ko so na voljo informacije o resničnih razredih, v katere spadajo primeri. Pri tem ni odveč poudariti, da resnični razredi ne smejo biti uporabljeni pri deljenju primerov v skupine.\n",
        "\n",
        "Naključne dodelitve oznak gruč imajo vrednost skupne deljene informacije \n",
        "blizu `0.0` za vsako vrednost števila skupin in števila primerov. Popolno ujemanje gruč z obstoječimi razredi ima vrednost `1`.\n",
        "Mera ni odvisna od predstavitve podatkov, t.j. ni potrebno da so podatki v vektorskem prostoru, saj je odvisna samo od oznak."
      ]
    },
    {
      "cell_type": "markdown",
      "metadata": {
        "tags": [
          "en"
        ]
      },
      "source": [
        "#### Common shared information\n",
        "\n",
        "The measure of common shared information is useful when information on the real classes, which includes examples, is available. It is not unreasonable to emphasize that real classes should not be used in case sharing.\n",
        "\n",
        "Random assignments of cluster labels have the value of the total shared information\n",
        "close to `0.0` for each value of the number of groups and number of cases. The complete clustering of clusters with existing classes has a value of `1`.\n",
        "The measure does not depend on the presentation of data, i.e. it is not necessary to have data in the vector space, as it depends only on labels."
      ]
    },
    {
      "cell_type": "code",
      "execution_count": 8,
      "metadata": {},
      "outputs": [
        {
          "data": {
            "text/plain": [
              "0.7740027756527372"
            ]
          },
          "execution_count": 8,
          "metadata": {},
          "output_type": "execute_result"
        }
      ],
      "source": [
        "from sklearn.metrics import adjusted_mutual_info_score\n",
        "score = adjusted_mutual_info_score(classes, predictions)\n",
        "score"
      ]
    },
    {
      "cell_type": "markdown",
      "metadata": {
        "tags": [
          "sl"
        ]
      },
      "source": [
        "##### Vprašanje 5-2-4\n",
        "\n",
        "Preveri, kako se ocena spreminja glede na izbrano razdaljo za rezanje dendrograma."
      ]
    },
    {
      "cell_type": "markdown",
      "metadata": {
        "tags": [
          "en"
        ]
      },
      "source": [
        "##### Question 5-2-4\n",
        "\n",
        "Check how the rating changes in regards to the distance where we cut the dendrogram."
      ]
    },
    {
      "cell_type": "code",
      "execution_count": null,
      "metadata": {},
      "outputs": [],
      "source": []
    },
    {
      "cell_type": "markdown",
      "metadata": {
        "tags": [
          "sl"
        ]
      },
      "source": [
        "[Odgovor](205-2.ipynb#Odgovor-5-2-2)"
      ]
    },
    {
      "cell_type": "markdown",
      "metadata": {
        "tags": [
          "en"
        ]
      },
      "source": [
        "[Answer](205-2.ipynb#Answer-5-2-2)"
      ]
    },
    {
      "cell_type": "markdown",
      "metadata": {
        "tags": [
          "sl"
        ]
      },
      "source": [
        "##### Vprašanje 5-2-5\n",
        "\n",
        "Izvedi analizo gručenja na podatkih o živalih  tako, da izbereš ustrezno metodo povezovanja, mero razdalje in število gruč. Uporabi eno od predstavljenih mer podobnosti ter poišči tako kombinacijo omenjenih nastavitev, da bo rezultat gručenja karseda visok."
      ]
    },
    {
      "cell_type": "markdown",
      "metadata": {
        "tags": [
          "en"
        ]
      },
      "source": [
        "##### Question 5-2-5\n",
        "\n",
        "Perform a clustering analysis on animal data by selecting the appropriate linking method, distance measure, and number of clusters. Use one of the similarity measures presented and find a combination of the above settings so that the clustering result is as high as possible."
      ]
    },
    {
      "cell_type": "code",
      "execution_count": null,
      "metadata": {},
      "outputs": [],
      "source": []
    },
    {
      "cell_type": "markdown",
      "metadata": {
        "tags": [
          "sl"
        ]
      },
      "source": [
        "[Odgovor](205-2.ipynb#Odgovor-5-2-3)"
      ]
    },
    {
      "cell_type": "markdown",
      "metadata": {
        "tags": [
          "en"
        ]
      },
      "source": [
        "[Answer](205-2.ipynb#Answer-5-2-3)"
      ]
    }
  ],
  "metadata": {
    "kernelspec": {
      "display_name": "PRvaje",
      "language": "python",
      "name": "python3"
    },
    "language_info": {
      "codemirror_mode": {
        "name": "ipython",
        "version": 3
      },
      "file_extension": ".py",
      "mimetype": "text/x-python",
      "name": "python",
      "nbconvert_exporter": "python",
      "pygments_lexer": "ipython3",
      "version": "3.11.8"
    },
    "latex_envs": {
      "LaTeX_envs_menu_present": true,
      "autocomplete": true,
      "bibliofile": "biblio.bib",
      "cite_by": "apalike",
      "current_citInitial": 1,
      "eqLabelWithNumbers": true,
      "eqNumInitial": 1,
      "hotkeys": {
        "equation": "Ctrl-E",
        "itemize": "Ctrl-I"
      },
      "labels_anchors": false,
      "latex_user_defs": false,
      "report_style_numbering": false,
      "user_envs_cfg": false
    },
    "nbTranslate": {
      "displayLangs": [
        "*"
      ],
      "hotkey": "alt-t",
      "langInMainMenu": true,
      "sourceLang": "sl",
      "targetLang": "en",
      "useGoogleTranslate": true
    }
  },
  "nbformat": 4,
  "nbformat_minor": 1
}
